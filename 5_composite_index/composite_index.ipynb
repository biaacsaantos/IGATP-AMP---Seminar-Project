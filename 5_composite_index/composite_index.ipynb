{
 "cells": [
  {
   "cell_type": "markdown",
   "id": "c3c6b0f5",
   "metadata": {},
   "source": [
    "## Composite Index of Perceived Touristic Attractiveness (IGATP)\n",
    "\n",
    "This notebook takes three sub-indices—Bayesian-adjusted rating, popularity and sentiment—and combines them into a single **composite IGATP** score for each point of interest.\n",
    "\n",
    "**Pipeline**\n",
    "\n",
    "1. Load data with `Rating_Bayes`, `Total_Reviews` and raw comment polarities.  \n",
    "2. Compute **average sentiment polarity** per place.  \n",
    "3. **Normalize** each sub-index to [0,1].  \n",
    "4. Choose weights (\\($w_1$, $w_2$, $w_3$\\)).  \n",
    "5. Calculate\n",
    "\n",
    "$$\n",
    "\\mathrm{IGATP}_i\n",
    "= w_1 \\times \\mathrm{Rating\\_Bayes}_i^{\\mathrm{norm}}\n",
    "+ w_2 \\times \\mathrm{Popularity}_i^{\\mathrm{norm}}\n",
    "+ w_3 \\times \\mathrm{Sentiment}_i^{\\mathrm{norm}}\n",
    "$$\n",
    "\n",
    "6. Inspect top results and export for downstream use."
   ]
  },
  {
   "cell_type": "markdown",
   "id": "3cb61740",
   "metadata": {},
   "source": [
    "## 1. Imports & Data Loading"
   ]
  },
  {
   "cell_type": "code",
   "execution_count": 35,
   "id": "5652efb3",
   "metadata": {},
   "outputs": [
    {
     "name": "stdout",
     "output_type": "stream",
     "text": [
      "Ratings (Bayes) shape: (2520, 17)\n",
      "Comments shape: (9063, 14)\n"
     ]
    }
   ],
   "source": [
    "import pandas as pd\n",
    "import numpy as np\n",
    "from sklearn.preprocessing import MinMaxScaler\n",
    "import seaborn as sns\n",
    "import matplotlib.pyplot as plt\n",
    "\n",
    "# Load the pre-computed Bayesian ratings and raw data\n",
    "ratings_bayes = pd.read_csv(\"C:/Users/Fernanda Costa/OneDrive - Universidade de Aveiro/Desktop/seminar_project/4_bayesian_rating_adjustment/ratings_with_bayesian_adjustment.csv\")\n",
    "comments = pd.read_csv(\"C:/Users/Fernanda Costa/OneDrive - Universidade de Aveiro/Desktop/seminar_project/2_pre_processing_NLP/comments_clean.csv\")\n",
    "\n",
    "print(\"Ratings (Bayes) shape:\", ratings_bayes.shape)\n",
    "print(\"Comments shape:\", comments.shape)"
   ]
  },
  {
   "cell_type": "markdown",
   "id": "7ea4e116",
   "metadata": {},
   "source": [
    "## 2. Compute Average Sentiment per Place"
   ]
  },
  {
   "cell_type": "code",
   "execution_count": 36,
   "id": "2f4f0ffc",
   "metadata": {},
   "outputs": [
    {
     "name": "stdout",
     "output_type": "stream",
     "text": [
      "Computed average polarity for 1413 places.\n"
     ]
    }
   ],
   "source": [
    "# Group by place name in comments and average the 'Polaridade' column\n",
    "polarity = (\n",
    "    comments\n",
    "    .groupby(\"Nome_Local\")[\"Polaridade\"]\n",
    "    .mean()\n",
    "    .reset_index()\n",
    "    .rename(columns={\"Polaridade\": \"Avg_Polarity\"})\n",
    ")\n",
    "\n",
    "print(\"Computed average polarity for\", polarity.shape[0], \"places.\")\n"
   ]
  },
  {
   "cell_type": "code",
   "execution_count": 45,
   "id": "a3eb8578",
   "metadata": {},
   "outputs": [
    {
     "data": {
      "text/html": [
       "<div>\n",
       "<style scoped>\n",
       "    .dataframe tbody tr th:only-of-type {\n",
       "        vertical-align: middle;\n",
       "    }\n",
       "\n",
       "    .dataframe tbody tr th {\n",
       "        vertical-align: top;\n",
       "    }\n",
       "\n",
       "    .dataframe thead th {\n",
       "        text-align: right;\n",
       "    }\n",
       "</style>\n",
       "<table border=\"1\" class=\"dataframe\">\n",
       "  <thead>\n",
       "    <tr style=\"text-align: right;\">\n",
       "      <th></th>\n",
       "      <th>Nome_Local</th>\n",
       "      <th>Avg_Polarity</th>\n",
       "    </tr>\n",
       "  </thead>\n",
       "  <tbody>\n",
       "    <tr>\n",
       "      <th>0</th>\n",
       "      <td>\"VOLTARIA\" - Petisqueira Portuguesa</td>\n",
       "      <td>0.296687</td>\n",
       "    </tr>\n",
       "    <tr>\n",
       "      <th>1</th>\n",
       "      <td>(In)Fusão Comida Com História</td>\n",
       "      <td>0.628000</td>\n",
       "    </tr>\n",
       "    <tr>\n",
       "      <th>2</th>\n",
       "      <td>100 Montaditos Póvoa de Varzim</td>\n",
       "      <td>0.278667</td>\n",
       "    </tr>\n",
       "    <tr>\n",
       "      <th>3</th>\n",
       "      <td>1001 Ofertas</td>\n",
       "      <td>0.108571</td>\n",
       "    </tr>\n",
       "    <tr>\n",
       "      <th>4</th>\n",
       "      <td>18 St. Hostel</td>\n",
       "      <td>0.467604</td>\n",
       "    </tr>\n",
       "  </tbody>\n",
       "</table>\n",
       "</div>"
      ],
      "text/plain": [
       "                            Nome_Local  Avg_Polarity\n",
       "0  \"VOLTARIA\" - Petisqueira Portuguesa      0.296687\n",
       "1        (In)Fusão Comida Com História      0.628000\n",
       "2       100 Montaditos Póvoa de Varzim      0.278667\n",
       "3                         1001 Ofertas      0.108571\n",
       "4                        18 St. Hostel      0.467604"
      ]
     },
     "execution_count": 45,
     "metadata": {},
     "output_type": "execute_result"
    }
   ],
   "source": [
    "polarity.head()"
   ]
  },
  {
   "cell_type": "markdown",
   "id": "f55f4f35",
   "metadata": {},
   "source": [
    "## 3. Merge Sub-Indices into One DataFrame"
   ]
  },
  {
   "cell_type": "code",
   "execution_count": 37,
   "id": "8ac20b30",
   "metadata": {},
   "outputs": [
    {
     "name": "stdout",
     "output_type": "stream",
     "text": [
      "Places without sentiment data: 1713\n"
     ]
    }
   ],
   "source": [
    "# Merge Avg_Polarity into the ratings_bayes table\n",
    "df = ratings_bayes.merge(\n",
    "    polarity,\n",
    "    left_on=\"Nome\",        # adjust if your column is named differently\n",
    "    right_on=\"Nome_Local\",\n",
    "    how=\"left\"\n",
    ")\n",
    "\n",
    "# Check for any missing sentiment\n",
    "missing_sent = df[\"Avg_Polarity\"].isna().sum()\n",
    "print(f\"Places without sentiment data: {missing_sent}\")"
   ]
  },
  {
   "cell_type": "markdown",
   "id": "4159996a",
   "metadata": {},
   "source": [
    "## 4. Normalize Each Sub-Index"
   ]
  },
  {
   "cell_type": "code",
   "execution_count": 38,
   "id": "7447e381",
   "metadata": {},
   "outputs": [
    {
     "name": "stdout",
     "output_type": "stream",
     "text": [
      "       Rating_Bayes_norm  Popularity_norm  Sentiment_norm\n",
      "count        2520.000000      2520.000000     2520.000000\n",
      "mean            0.814051         0.002222        0.654808\n",
      "std             0.063876         0.024056        0.068510\n",
      "min             0.000000         0.000000        0.000000\n",
      "25%             0.819656         0.000000        0.654808\n",
      "50%             0.819656         0.000000        0.654808\n",
      "75%             0.819656         0.000000        0.654808\n",
      "max             1.000000         1.000000        1.000000\n"
     ]
    },
    {
     "name": "stderr",
     "output_type": "stream",
     "text": [
      "C:\\Users\\Fernanda Costa\\AppData\\Local\\Temp\\ipykernel_18880\\3921256223.py:12: FutureWarning: A value is trying to be set on a copy of a DataFrame or Series through chained assignment using an inplace method.\n",
      "The behavior will change in pandas 3.0. This inplace method will never work because the intermediate object on which we are setting values always behaves as a copy.\n",
      "\n",
      "For example, when doing 'df[col].method(value, inplace=True)', try using 'df.method({col: value}, inplace=True)' or df[col] = df[col].method(value) instead, to perform the operation inplace on the original object.\n",
      "\n",
      "\n",
      "  df[\"Avg_Polarity\"].fillna(global_polarity, inplace=True)\n"
     ]
    }
   ],
   "source": [
    "# Initialize scaler\n",
    "scaler = MinMaxScaler()\n",
    "\n",
    "# 4.1 Rating_Bayes\n",
    "df[\"Rating_Bayes_norm\"] = scaler.fit_transform(df[[\"Rating_Bayes\"]])\n",
    "\n",
    "# 4.2 Popularity = Total_Reviews\n",
    "df[\"Popularity_norm\"] = scaler.fit_transform(df[[\"Total_Reviews\"]])\n",
    "\n",
    "# 4.3 Sentiment = Avg_Polarity (fill missing with global mean first)\n",
    "global_polarity = df[\"Avg_Polarity\"].mean()\n",
    "df[\"Avg_Polarity\"].fillna(global_polarity, inplace=True)\n",
    "df[\"Sentiment_norm\"] = scaler.fit_transform(df[[\"Avg_Polarity\"]])\n",
    "\n",
    "# Quick sanity check\n",
    "print(df[[\"Rating_Bayes_norm\", \"Popularity_norm\", \"Sentiment_norm\"]].describe())"
   ]
  },
  {
   "cell_type": "markdown",
   "id": "dd73e72e",
   "metadata": {},
   "source": [
    "## 5. Correlations"
   ]
  },
  {
   "cell_type": "code",
   "execution_count": 39,
   "id": "af038d33",
   "metadata": {},
   "outputs": [
    {
     "data": {
      "image/png": "[encoded data removed]",
      "text/plain": [
       "<Figure size 600x400 with 2 Axes>"
      ]
     },
     "metadata": {},
     "output_type": "display_data"
    }
   ],
   "source": [
    "# Selecionar apenas os subíndices normalizados\n",
    "subindices = df[[\"Rating_Bayes_norm\", \"Popularity_norm\", \"Sentiment_norm\"]]\n",
    "\n",
    "# Calcular a matriz de correlação\n",
    "correlation_matrix = subindices.corr()\n",
    "\n",
    "# Visualizar com um heatmap\n",
    "plt.figure(figsize=(6, 4))\n",
    "sns.heatmap(correlation_matrix, annot=True, cmap=\"coolwarm\", fmt=\".2f\")\n",
    "plt.title(\"Correlation Matrix of Normalized Sub-Indices\")\n",
    "plt.tight_layout()\n",
    "plt.show()\n"
   ]
  },
  {
   "cell_type": "markdown",
   "id": "aef35a54",
   "metadata": {},
   "source": [
    "## 6. Compute Composite IGATP"
   ]
  },
  {
   "cell_type": "code",
   "execution_count": 40,
   "id": "136f672b",
   "metadata": {},
   "outputs": [
    {
     "name": "stdout",
     "output_type": "stream",
     "text": [
      "IGATP computed. Range: 0.095 to 0.873\n"
     ]
    }
   ],
   "source": [
    "# Define weights (must sum to 1)\n",
    "w1, w2, w3 = 1/3, 1/3, 1/3\n",
    "\n",
    "df[\"IGATP\"] = (\n",
    "    w1 * df[\"Rating_Bayes_norm\"]\n",
    "  + w2 * df[\"Popularity_norm\"]\n",
    "  + w3 * df[\"Sentiment_norm\"]\n",
    ")\n",
    "\n",
    "print(\n",
    "    \"IGATP computed. Range:\",\n",
    "    round(df[\"IGATP\"].min(), 3),\n",
    "    \"to\",\n",
    "    round(df[\"IGATP\"].max(), 3)\n",
    ")"
   ]
  },
  {
   "cell_type": "markdown",
   "id": "431fb6d9",
   "metadata": {},
   "source": [
    "## 7. Inspect Top & Export"
   ]
  },
  {
   "cell_type": "code",
   "execution_count": 41,
   "id": "246f1ec7",
   "metadata": {},
   "outputs": [
    {
     "data": {
      "text/html": [
       "<style type=\"text/css\">\n",
       "</style>\n",
       "<table id=\"T_f64db\">\n",
       "  <thead>\n",
       "    <tr>\n",
       "      <th class=\"blank level0\" >&nbsp;</th>\n",
       "      <th id=\"T_f64db_level0_col0\" class=\"col_heading level0 col0\" >id_unico</th>\n",
       "      <th id=\"T_f64db_level0_col1\" class=\"col_heading level0 col1\" >Nome</th>\n",
       "      <th id=\"T_f64db_level0_col2\" class=\"col_heading level0 col2\" >Rating_Bayes</th>\n",
       "      <th id=\"T_f64db_level0_col3\" class=\"col_heading level0 col3\" >Total_Reviews</th>\n",
       "      <th id=\"T_f64db_level0_col4\" class=\"col_heading level0 col4\" >Avg_Polarity</th>\n",
       "      <th id=\"T_f64db_level0_col5\" class=\"col_heading level0 col5\" >IGATP</th>\n",
       "    </tr>\n",
       "  </thead>\n",
       "  <tbody>\n",
       "    <tr>\n",
       "      <th id=\"T_f64db_level0_row0\" class=\"row_heading level0 row0\" >495</th>\n",
       "      <td id=\"T_f64db_row0_col0\" class=\"data row0 col0\" >40050dbe</td>\n",
       "      <td id=\"T_f64db_row0_col1\" class=\"data row0 col1\" >Luís I Bridge</td>\n",
       "      <td id=\"T_f64db_row0_col2\" class=\"data row0 col2\" >4.800</td>\n",
       "      <td id=\"T_f64db_row0_col3\" class=\"data row0 col3\" >86331</td>\n",
       "      <td id=\"T_f64db_row0_col4\" class=\"data row0 col4\" >0.356</td>\n",
       "      <td id=\"T_f64db_row0_col5\" class=\"data row0 col5\" >0.873</td>\n",
       "    </tr>\n",
       "    <tr>\n",
       "      <th id=\"T_f64db_level0_row1\" class=\"row_heading level0 row1\" >498</th>\n",
       "      <td id=\"T_f64db_row1_col0\" class=\"data row1 col0\" >d7b17b43</td>\n",
       "      <td id=\"T_f64db_row1_col1\" class=\"data row1 col1\" >Jardim do Morro</td>\n",
       "      <td id=\"T_f64db_row1_col2\" class=\"data row1 col2\" >4.700</td>\n",
       "      <td id=\"T_f64db_row1_col3\" class=\"data row1 col3\" >30647</td>\n",
       "      <td id=\"T_f64db_row1_col4\" class=\"data row1 col4\" >0.356</td>\n",
       "      <td id=\"T_f64db_row1_col5\" class=\"data row1 col5\" >0.644</td>\n",
       "    </tr>\n",
       "    <tr>\n",
       "      <th id=\"T_f64db_level0_row2\" class=\"row_heading level0 row2\" >7</th>\n",
       "      <td id=\"T_f64db_row2_col0\" class=\"data row2 col0\" >55c15277</td>\n",
       "      <td id=\"T_f64db_row2_col1\" class=\"data row2 col1\" >Abadessa Restaurante e Petiscos</td>\n",
       "      <td id=\"T_f64db_row2_col2\" class=\"data row2 col2\" >4.810</td>\n",
       "      <td id=\"T_f64db_row2_col3\" class=\"data row2 col3\" >26</td>\n",
       "      <td id=\"T_f64db_row2_col4\" class=\"data row2 col4\" >0.724</td>\n",
       "      <td id=\"T_f64db_row2_col5\" class=\"data row2 col5\" >0.635</td>\n",
       "    </tr>\n",
       "    <tr>\n",
       "      <th id=\"T_f64db_level0_row3\" class=\"row_heading level0 row3\" >474</th>\n",
       "      <td id=\"T_f64db_row3_col0\" class=\"data row3 col0\" >e297490f</td>\n",
       "      <td id=\"T_f64db_row3_col1\" class=\"data row3 col1\" >Parque Nascente Shopping</td>\n",
       "      <td id=\"T_f64db_row3_col2\" class=\"data row3 col2\" >4.300</td>\n",
       "      <td id=\"T_f64db_row3_col3\" class=\"data row3 col3\" >39129</td>\n",
       "      <td id=\"T_f64db_row3_col4\" class=\"data row3 col4\" >0.356</td>\n",
       "      <td id=\"T_f64db_row3_col5\" class=\"data row3 col5\" >0.622</td>\n",
       "    </tr>\n",
       "    <tr>\n",
       "      <th id=\"T_f64db_level0_row4\" class=\"row_heading level0 row4\" >543</th>\n",
       "      <td id=\"T_f64db_row4_col0\" class=\"data row4 col0\" >5ce416a1</td>\n",
       "      <td id=\"T_f64db_row4_col1\" class=\"data row4 col1\" >La Bocca Dolce</td>\n",
       "      <td id=\"T_f64db_row4_col2\" class=\"data row4 col2\" >4.858</td>\n",
       "      <td id=\"T_f64db_row4_col3\" class=\"data row4 col3\" >132</td>\n",
       "      <td id=\"T_f64db_row4_col4\" class=\"data row4 col4\" >0.608</td>\n",
       "      <td id=\"T_f64db_row4_col5\" class=\"data row4 col5\" >0.613</td>\n",
       "    </tr>\n",
       "    <tr>\n",
       "      <th id=\"T_f64db_level0_row5\" class=\"row_heading level0 row5\" >534</th>\n",
       "      <td id=\"T_f64db_row5_col0\" class=\"data row5 col0\" >5b643d50</td>\n",
       "      <td id=\"T_f64db_row5_col1\" class=\"data row5 col1\" >Chef Mamã</td>\n",
       "      <td id=\"T_f64db_row5_col2\" class=\"data row5 col2\" >4.862</td>\n",
       "      <td id=\"T_f64db_row5_col3\" class=\"data row5 col3\" >150</td>\n",
       "      <td id=\"T_f64db_row5_col4\" class=\"data row5 col4\" >0.593</td>\n",
       "      <td id=\"T_f64db_row5_col5\" class=\"data row5 col5\" >0.609</td>\n",
       "    </tr>\n",
       "    <tr>\n",
       "      <th id=\"T_f64db_level0_row6\" class=\"row_heading level0 row6\" >1996</th>\n",
       "      <td id=\"T_f64db_row6_col0\" class=\"data row6 col0\" >b9e67565</td>\n",
       "      <td id=\"T_f64db_row6_col1\" class=\"data row6 col1\" >Restaurante Bella Vista</td>\n",
       "      <td id=\"T_f64db_row6_col2\" class=\"data row6 col2\" >4.449</td>\n",
       "      <td id=\"T_f64db_row6_col3\" class=\"data row6 col3\" >0</td>\n",
       "      <td id=\"T_f64db_row6_col4\" class=\"data row6 col4\" >0.807</td>\n",
       "      <td id=\"T_f64db_row6_col5\" class=\"data row6 col5\" >0.607</td>\n",
       "    </tr>\n",
       "    <tr>\n",
       "      <th id=\"T_f64db_level0_row7\" class=\"row_heading level0 row7\" >153</th>\n",
       "      <td id=\"T_f64db_row7_col0\" class=\"data row7 col0\" >5395f923</td>\n",
       "      <td id=\"T_f64db_row7_col1\" class=\"data row7 col1\" >Sabores da Fatinha</td>\n",
       "      <td id=\"T_f64db_row7_col2\" class=\"data row7 col2\" >4.863</td>\n",
       "      <td id=\"T_f64db_row7_col3\" class=\"data row7 col3\" >152</td>\n",
       "      <td id=\"T_f64db_row7_col4\" class=\"data row7 col4\" >0.577</td>\n",
       "      <td id=\"T_f64db_row7_col5\" class=\"data row7 col5\" >0.605</td>\n",
       "    </tr>\n",
       "    <tr>\n",
       "      <th id=\"T_f64db_level0_row8\" class=\"row_heading level0 row8\" >1621</th>\n",
       "      <td id=\"T_f64db_row8_col0\" class=\"data row8 col0\" >0b987770</td>\n",
       "      <td id=\"T_f64db_row8_col1\" class=\"data row8 col1\" >Hotel Premium</td>\n",
       "      <td id=\"T_f64db_row8_col2\" class=\"data row8 col2\" >4.449</td>\n",
       "      <td id=\"T_f64db_row8_col3\" class=\"data row8 col3\" >0</td>\n",
       "      <td id=\"T_f64db_row8_col4\" class=\"data row8 col4\" >0.800</td>\n",
       "      <td id=\"T_f64db_row8_col5\" class=\"data row8 col5\" >0.605</td>\n",
       "    </tr>\n",
       "    <tr>\n",
       "      <th id=\"T_f64db_level0_row9\" class=\"row_heading level0 row9\" >540</th>\n",
       "      <td id=\"T_f64db_row9_col0\" class=\"data row9 col0\" >3cedfae9</td>\n",
       "      <td id=\"T_f64db_row9_col1\" class=\"data row9 col1\" >DaCasa</td>\n",
       "      <td id=\"T_f64db_row9_col2\" class=\"data row9 col2\" >4.784</td>\n",
       "      <td id=\"T_f64db_row9_col3\" class=\"data row9 col3\" >282</td>\n",
       "      <td id=\"T_f64db_row9_col4\" class=\"data row9 col4\" >0.549</td>\n",
       "      <td id=\"T_f64db_row9_col5\" class=\"data row9 col5\" >0.588</td>\n",
       "    </tr>\n",
       "  </tbody>\n",
       "</table>\n"
      ],
      "text/plain": [
       "<pandas.io.formats.style.Styler at 0x2d0c85623f0>"
      ]
     },
     "metadata": {},
     "output_type": "display_data"
    },
    {
     "name": "stdout",
     "output_type": "stream",
     "text": [
      "Exported composite_index.csv with 2520 rows.\n"
     ]
    }
   ],
   "source": [
    "# Top 10 by IGATP\n",
    "top10 = df.sort_values(\"IGATP\", ascending=False).head(10)\n",
    "display(top10[[\n",
    "    \"id_unico\", \"Nome\", \"Rating_Bayes\", \"Total_Reviews\",\n",
    "    \"Avg_Polarity\", \"IGATP\"\n",
    "]].style.format({\n",
    "    \"Rating_Bayes\": \"{:.3f}\",\n",
    "    \"Avg_Polarity\": \"{:.3f}\",\n",
    "    \"IGATP\": \"{:.3f}\"\n",
    "}))\n",
    "\n",
    "# Export full composite index\n",
    "df.to_csv(\"composite_index.csv\", index=False)\n",
    "print(\"Exported composite_index.csv with\", df.shape[0], \"rows.\")"
   ]
  },
  {
   "cell_type": "code",
   "execution_count": 42,
   "id": "d1588847",
   "metadata": {},
   "outputs": [
    {
     "data": {
      "text/plain": [
       "0"
      ]
     },
     "execution_count": 42,
     "metadata": {},
     "output_type": "execute_result"
    }
   ],
   "source": [
    "df['id_unico'].isnull().sum()"
   ]
  },
  {
   "cell_type": "code",
   "execution_count": 43,
   "id": "34f101a3",
   "metadata": {},
   "outputs": [
    {
     "data": {
      "text/plain": [
       "2520"
      ]
     },
     "execution_count": 43,
     "metadata": {},
     "output_type": "execute_result"
    }
   ],
   "source": [
    "df['Avg_Polarity'].count()"
   ]
  },
  {
   "cell_type": "code",
   "execution_count": 44,
   "id": "6f983983",
   "metadata": {},
   "outputs": [
    {
     "data": {
      "text/plain": [
       "0"
      ]
     },
     "execution_count": 44,
     "metadata": {},
     "output_type": "execute_result"
    }
   ],
   "source": [
    "df['IGATP'].isnull().sum()"
   ]
  }
 ],
 "metadata": {
  "kernelspec": {
   "display_name": "seminario",
   "language": "python",
   "name": "python3"
  },
  "language_info": {
   "codemirror_mode": {
    "name": "ipython",
    "version": 3
   },
   "file_extension": ".py",
   "mimetype": "text/x-python",
   "name": "python",
   "nbconvert_exporter": "python",
   "pygments_lexer": "ipython3",
   "version": "3.12.3"
  }
 },
 "nbformat": 4,
 "nbformat_minor": 5
}
